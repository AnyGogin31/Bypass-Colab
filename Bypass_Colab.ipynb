{
  "nbformat": 4,
  "nbformat_minor": 0,
  "metadata": {
    "colab": {
      "provenance": []
    },
    "kernelspec": {
      "name": "python3",
      "display_name": "Python 3"
    },
    "language_info": {
      "name": "python"
    }
  },
  "cells": [
    {
      "cell_type": "code",
      "execution_count": null,
      "metadata": {
        "cellView": "form",
        "id": "h_zVAiAykKgE"
      },
      "outputs": [],
      "source": [
        "# @markdown # bypassing a file via a link\n",
        "\n",
        "bypass_file_name = \"temp\"\n",
        "url_banned_notebook = \"https://raw.githubusercontent.com/%USERNAME%/%REPONAME%/main/notebook.ipynb\" # @param {type: \"string\"}\n",
        "\n",
        "!wget -q {url_banned_notebook} -O {bypass_file_name}.ipynb\n",
        "\n",
        "!pip install jupyter\n",
        "!pip install nbconvert\n",
        "!jupyter nbconvert {bypass_file_name}.ibynb --to python\n",
        "!rm {bypass_file_name}.ibynb\n",
        "\n",
        "with open(f\"{bypass_file_name}.py\", \"r\") as file:\n",
        "    exec(file.read())"
      ]
    },
    {
      "cell_type": "code",
      "source": [
        "# @markdown # bypass file via google drive\n",
        "\n",
        "import os\n",
        "\n",
        "bypass_file_name = \"temp\"\n",
        "path_to_banned_notebook = \"temp/notebook.ipynb\" # @param {type: \"string\"}\n",
        "\n",
        "drive_path = \"/content/drive\"\n",
        "cloud_dir = f\"{drive_path}/MyDrive/\"\n",
        "\n",
        "if os.path.exists(drive_path):\n",
        "    return None\n",
        "\n",
        "try:\n",
        "    from google.colab import drive\n",
        "\n",
        "    drive.mount(drive_path, force_remount=True)\n",
        "    os.makedirs(cloud_dir, exist_ok=True)\n",
        "except:\n",
        "    ...\n",
        "\n",
        "!cp {cloud_dir}/{path_to_banned_notebook} /content/\n",
        "!mv *.ipynb {bypass_file_name}.ipynb\n",
        "\n",
        "!pip install jupyter\n",
        "!pip install nbconvert\n",
        "!jupyter nbconvert {bypass_file_name}.ipynb --to python\n",
        "\n",
        "with open(f\"{bypass_file_name}.py\", \"r\") as file:\n",
        "    exec(file.read())"
      ],
      "metadata": {
        "id": "tHL_L79lkQY5"
      },
      "execution_count": null,
      "outputs": []
    },
    {
      "cell_type": "code",
      "source": [
        "# @markdown # file bypass\n",
        "\n",
        "from google.colab import files\n",
        "\n",
        "bypass_file_name = \"temp\"\n",
        "name, content = list(files.upload().items())[0]\n",
        "\n",
        "with open(f\"{bypass_file_name}.ipynb\", \"w\") as file:\n",
        "    file.write(content.decode())\n",
        "\n",
        "!pip install jupyter\n",
        "!pip install nbconvert\n",
        "!jupyter nbconvert {bypass_file_name}.ibynb --to python\n",
        "\n",
        "with open(f\"{bypass_file_name}.py\", \"r\") as file:\n",
        "    exec(file.read())"
      ],
      "metadata": {
        "cellView": "form",
        "id": "hCHSlo56ksKy"
      },
      "execution_count": null,
      "outputs": []
    }
  ]
}